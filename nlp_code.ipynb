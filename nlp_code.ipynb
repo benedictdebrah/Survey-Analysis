{
 "cells": [
  {
   "cell_type": "code",
   "execution_count": 1,
   "metadata": {},
   "outputs": [],
   "source": [
    "import pandas as pd\n",
    "import nltk"
   ]
  },
  {
   "cell_type": "code",
   "execution_count": 2,
   "metadata": {},
   "outputs": [
    {
     "name": "stderr",
     "output_type": "stream",
     "text": [
      "[nltk_data] Downloading package punkt to\n",
      "[nltk_data]     C:\\Users\\Benedict\\AppData\\Roaming\\nltk_data...\n",
      "[nltk_data]   Package punkt is already up-to-date!\n"
     ]
    },
    {
     "data": {
      "text/plain": [
       "True"
      ]
     },
     "execution_count": 2,
     "metadata": {},
     "output_type": "execute_result"
    }
   ],
   "source": [
    "nltk.download('punkt')  # Download necessary NLTK data\n"
   ]
  },
  {
   "cell_type": "code",
   "execution_count": 3,
   "metadata": {},
   "outputs": [],
   "source": [
    "# Load dataframe\n",
    "data = pd.read_csv('kuja.csv')"
   ]
  },
  {
   "cell_type": "code",
   "execution_count": 4,
   "metadata": {},
   "outputs": [
    {
     "name": "stdout",
     "output_type": "stream",
     "text": [
      "(10000, 13)\n"
     ]
    },
    {
     "data": {
      "text/html": [
       "<div>\n",
       "<style scoped>\n",
       "    .dataframe tbody tr th:only-of-type {\n",
       "        vertical-align: middle;\n",
       "    }\n",
       "\n",
       "    .dataframe tbody tr th {\n",
       "        vertical-align: top;\n",
       "    }\n",
       "\n",
       "    .dataframe thead th {\n",
       "        text-align: right;\n",
       "    }\n",
       "</style>\n",
       "<table border=\"1\" class=\"dataframe\">\n",
       "  <thead>\n",
       "    <tr style=\"text-align: right;\">\n",
       "      <th></th>\n",
       "      <th>country_name</th>\n",
       "      <th>location_name</th>\n",
       "      <th>service_point_name</th>\n",
       "      <th>service_type</th>\n",
       "      <th>satisfied</th>\n",
       "      <th>satisfied_num</th>\n",
       "      <th>idea</th>\n",
       "      <th>lat_lon</th>\n",
       "      <th>time_zone</th>\n",
       "      <th>created_at_tz</th>\n",
       "      <th>uploaded_at_tz</th>\n",
       "      <th>unique_id</th>\n",
       "      <th>gender</th>\n",
       "    </tr>\n",
       "  </thead>\n",
       "  <tbody>\n",
       "    <tr>\n",
       "      <th>0</th>\n",
       "      <td>Uganda</td>\n",
       "      <td>Palabek</td>\n",
       "      <td>Palabek: Livelihood Pulse</td>\n",
       "      <td>Livelihoods</td>\n",
       "      <td>True</td>\n",
       "      <td>1</td>\n",
       "      <td>Buy a vehicle for the traders in palabek settl...</td>\n",
       "      <td>3.31308419,32.40578580</td>\n",
       "      <td>Africa/Kampala</td>\n",
       "      <td>1/28/2021 12:24</td>\n",
       "      <td>1/28/2021 12:28</td>\n",
       "      <td>e26b3d90-617c-11eb-a5d6-7ddcf5547601</td>\n",
       "      <td>MALE</td>\n",
       "    </tr>\n",
       "    <tr>\n",
       "      <th>1</th>\n",
       "      <td>Uganda</td>\n",
       "      <td>Palabek</td>\n",
       "      <td>Palabek: Livelihood Pulse</td>\n",
       "      <td>Livelihoods</td>\n",
       "      <td>False</td>\n",
       "      <td>0</td>\n",
       "      <td>Support us with a transport means to take our ...</td>\n",
       "      <td>3.31308419,32.40578580</td>\n",
       "      <td>Africa/Kampala</td>\n",
       "      <td>1/28/2021 12:21</td>\n",
       "      <td>1/28/2021 12:28</td>\n",
       "      <td>80f85750-617c-11eb-a5d6-7ddcf5547601</td>\n",
       "      <td>MALE</td>\n",
       "    </tr>\n",
       "  </tbody>\n",
       "</table>\n",
       "</div>"
      ],
      "text/plain": [
       "  country_name location_name         service_point_name service_type  \\\n",
       "0       Uganda       Palabek  Palabek: Livelihood Pulse  Livelihoods   \n",
       "1       Uganda       Palabek  Palabek: Livelihood Pulse  Livelihoods   \n",
       "\n",
       "   satisfied  satisfied_num  \\\n",
       "0       True              1   \n",
       "1      False              0   \n",
       "\n",
       "                                                idea                 lat_lon  \\\n",
       "0  Buy a vehicle for the traders in palabek settl...  3.31308419,32.40578580   \n",
       "1  Support us with a transport means to take our ...  3.31308419,32.40578580   \n",
       "\n",
       "        time_zone    created_at_tz   uploaded_at_tz  \\\n",
       "0  Africa/Kampala  1/28/2021 12:24  1/28/2021 12:28   \n",
       "1  Africa/Kampala  1/28/2021 12:21  1/28/2021 12:28   \n",
       "\n",
       "                              unique_id gender  \n",
       "0  e26b3d90-617c-11eb-a5d6-7ddcf5547601   MALE  \n",
       "1  80f85750-617c-11eb-a5d6-7ddcf5547601   MALE  "
      ]
     },
     "execution_count": 4,
     "metadata": {},
     "output_type": "execute_result"
    }
   ],
   "source": [
    "print(data.shape)\n",
    "data.head(2)"
   ]
  },
  {
   "cell_type": "code",
   "execution_count": 5,
   "metadata": {},
   "outputs": [],
   "source": [
    "idea = data['idea']"
   ]
  },
  {
   "cell_type": "code",
   "execution_count": 6,
   "metadata": {},
   "outputs": [],
   "source": [
    "idea.to_csv('idea.csv',index=False)"
   ]
  },
  {
   "cell_type": "code",
   "execution_count": 7,
   "metadata": {},
   "outputs": [],
   "source": [
    "# Load dataframe with statements\n",
    "df = pd.read_csv('idea.csv')"
   ]
  },
  {
   "cell_type": "code",
   "execution_count": 8,
   "metadata": {},
   "outputs": [
    {
     "data": {
      "text/html": [
       "<div>\n",
       "<style scoped>\n",
       "    .dataframe tbody tr th:only-of-type {\n",
       "        vertical-align: middle;\n",
       "    }\n",
       "\n",
       "    .dataframe tbody tr th {\n",
       "        vertical-align: top;\n",
       "    }\n",
       "\n",
       "    .dataframe thead th {\n",
       "        text-align: right;\n",
       "    }\n",
       "</style>\n",
       "<table border=\"1\" class=\"dataframe\">\n",
       "  <thead>\n",
       "    <tr style=\"text-align: right;\">\n",
       "      <th></th>\n",
       "      <th>idea</th>\n",
       "    </tr>\n",
       "  </thead>\n",
       "  <tbody>\n",
       "    <tr>\n",
       "      <th>0</th>\n",
       "      <td>Buy a vehicle for the traders in palabek settl...</td>\n",
       "    </tr>\n",
       "    <tr>\n",
       "      <th>1</th>\n",
       "      <td>Support us with a transport means to take our ...</td>\n",
       "    </tr>\n",
       "    <tr>\n",
       "      <th>2</th>\n",
       "      <td>Bring a box for some saving groups in zone 6 b...</td>\n",
       "    </tr>\n",
       "    <tr>\n",
       "      <th>3</th>\n",
       "      <td>Support us with ropes to tie our goats during ...</td>\n",
       "    </tr>\n",
       "    <tr>\n",
       "      <th>4</th>\n",
       "      <td>Support our group with a pop corn machine that...</td>\n",
       "    </tr>\n",
       "  </tbody>\n",
       "</table>\n",
       "</div>"
      ],
      "text/plain": [
       "                                                idea\n",
       "0  Buy a vehicle for the traders in palabek settl...\n",
       "1  Support us with a transport means to take our ...\n",
       "2  Bring a box for some saving groups in zone 6 b...\n",
       "3  Support us with ropes to tie our goats during ...\n",
       "4  Support our group with a pop corn machine that..."
      ]
     },
     "execution_count": 8,
     "metadata": {},
     "output_type": "execute_result"
    }
   ],
   "source": [
    "df.head()"
   ]
  },
  {
   "cell_type": "code",
   "execution_count": 9,
   "metadata": {},
   "outputs": [],
   "source": [
    "# Function to generate 5-word sentence\n",
    "def generate_sentence(statement):\n",
    "    # Tokenize statement into individual words\n",
    "    words = nltk.word_tokenize(statement)\n",
    "    # Filter out stop words and non-alphanumeric characters\n",
    "    filtered_words = [word.lower() for word in words if word.isalnum() and word not in nltk.corpus.stopwords.words('english')]\n",
    "    # Take first 4 words and join with \"we need\"\n",
    "    sentence = \"We need \" + \" \".join(filtered_words[:4])\n",
    "    return sentence\n"
   ]
  },
  {
   "cell_type": "code",
   "execution_count": 10,
   "metadata": {},
   "outputs": [
    {
     "name": "stderr",
     "output_type": "stream",
     "text": [
      "[nltk_data] Downloading package stopwords to\n",
      "[nltk_data]     C:\\Users\\Benedict\\AppData\\Roaming\\nltk_data...\n",
      "[nltk_data]   Package stopwords is already up-to-date!\n"
     ]
    },
    {
     "data": {
      "text/plain": [
       "True"
      ]
     },
     "execution_count": 10,
     "metadata": {},
     "output_type": "execute_result"
    }
   ],
   "source": [
    "nltk.download('stopwords')\n"
   ]
  },
  {
   "cell_type": "code",
   "execution_count": 11,
   "metadata": {},
   "outputs": [],
   "source": [
    "df['idea'] = df['idea'].astype(str)"
   ]
  },
  {
   "cell_type": "code",
   "execution_count": 12,
   "metadata": {},
   "outputs": [],
   "source": [
    "# Apply function to dataframe column\n",
    "df['sentence'] = df['idea'].apply(generate_sentence)\n"
   ]
  },
  {
   "cell_type": "code",
   "execution_count": 13,
   "metadata": {},
   "outputs": [
    {
     "data": {
      "text/html": [
       "<div>\n",
       "<style scoped>\n",
       "    .dataframe tbody tr th:only-of-type {\n",
       "        vertical-align: middle;\n",
       "    }\n",
       "\n",
       "    .dataframe tbody tr th {\n",
       "        vertical-align: top;\n",
       "    }\n",
       "\n",
       "    .dataframe thead th {\n",
       "        text-align: right;\n",
       "    }\n",
       "</style>\n",
       "<table border=\"1\" class=\"dataframe\">\n",
       "  <thead>\n",
       "    <tr style=\"text-align: right;\">\n",
       "      <th></th>\n",
       "      <th>idea</th>\n",
       "      <th>sentence</th>\n",
       "    </tr>\n",
       "  </thead>\n",
       "  <tbody>\n",
       "    <tr>\n",
       "      <th>0</th>\n",
       "      <td>Buy a vehicle for the traders in palabek settl...</td>\n",
       "      <td>We need buy vehicle traders palabek</td>\n",
       "    </tr>\n",
       "    <tr>\n",
       "      <th>1</th>\n",
       "      <td>Support us with a transport means to take our ...</td>\n",
       "      <td>We need support us transport means</td>\n",
       "    </tr>\n",
       "    <tr>\n",
       "      <th>2</th>\n",
       "      <td>Bring a box for some saving groups in zone 6 b...</td>\n",
       "      <td>We need bring box saving groups</td>\n",
       "    </tr>\n",
       "    <tr>\n",
       "      <th>3</th>\n",
       "      <td>Support us with ropes to tie our goats during ...</td>\n",
       "      <td>We need support us ropes tie</td>\n",
       "    </tr>\n",
       "    <tr>\n",
       "      <th>4</th>\n",
       "      <td>Support our group with a pop corn machine that...</td>\n",
       "      <td>We need support group pop corn</td>\n",
       "    </tr>\n",
       "    <tr>\n",
       "      <th>5</th>\n",
       "      <td>Be receiving only cases that are referred to o...</td>\n",
       "      <td>We need be receiving cases referred</td>\n",
       "    </tr>\n",
       "    <tr>\n",
       "      <th>6</th>\n",
       "      <td>Train saving groups on the importance of inves...</td>\n",
       "      <td>We need train saving groups importance</td>\n",
       "    </tr>\n",
       "    <tr>\n",
       "      <th>7</th>\n",
       "      <td>Build houses for total orphans for them to own...</td>\n",
       "      <td>We need build houses total orphans</td>\n",
       "    </tr>\n",
       "    <tr>\n",
       "      <th>8</th>\n",
       "      <td>Provide seeds early this time so that we can g...</td>\n",
       "      <td>We need provide seeds early time</td>\n",
       "    </tr>\n",
       "    <tr>\n",
       "      <th>9</th>\n",
       "      <td>Hire bigger land for the agricultural groups s...</td>\n",
       "      <td>We need hire bigger land agricultural</td>\n",
       "    </tr>\n",
       "    <tr>\n",
       "      <th>10</th>\n",
       "      <td>Support us to start a brick laying project so ...</td>\n",
       "      <td>We need support us start brick</td>\n",
       "    </tr>\n",
       "    <tr>\n",
       "      <th>11</th>\n",
       "      <td>Reallocate ration cards from Kyaka to Nakivale...</td>\n",
       "      <td>We need reallocate ration cards kyaka</td>\n",
       "    </tr>\n",
       "    <tr>\n",
       "      <th>12</th>\n",
       "      <td>Try to give us knickers next time to enable us...</td>\n",
       "      <td>We need try give us knickers</td>\n",
       "    </tr>\n",
       "    <tr>\n",
       "      <th>13</th>\n",
       "      <td>Solve people's issues on houses mostly PSNs by...</td>\n",
       "      <td>We need solve people issues houses</td>\n",
       "    </tr>\n",
       "    <tr>\n",
       "      <th>14</th>\n",
       "      <td>Construct houses for people who missed this su...</td>\n",
       "      <td>We need construct houses people missed</td>\n",
       "    </tr>\n",
       "    <tr>\n",
       "      <th>15</th>\n",
       "      <td>Support us members of fish project with fridge...</td>\n",
       "      <td>We need support us members fish</td>\n",
       "    </tr>\n",
       "    <tr>\n",
       "      <th>16</th>\n",
       "      <td>Help us raise our children property by allowin...</td>\n",
       "      <td>We need help us raise children</td>\n",
       "    </tr>\n",
       "    <tr>\n",
       "      <th>17</th>\n",
       "      <td>Recruit casual workers who acquired building a...</td>\n",
       "      <td>We need recruit casual workers acquired</td>\n",
       "    </tr>\n",
       "    <tr>\n",
       "      <th>18</th>\n",
       "      <td>Employ one more legal officer in order for peo...</td>\n",
       "      <td>We need employ one legal officer</td>\n",
       "    </tr>\n",
       "    <tr>\n",
       "      <th>19</th>\n",
       "      <td>Be visiting villages and we tell them our prob...</td>\n",
       "      <td>We need be visiting villages tell</td>\n",
       "    </tr>\n",
       "  </tbody>\n",
       "</table>\n",
       "</div>"
      ],
      "text/plain": [
       "                                                 idea  \\\n",
       "0   Buy a vehicle for the traders in palabek settl...   \n",
       "1   Support us with a transport means to take our ...   \n",
       "2   Bring a box for some saving groups in zone 6 b...   \n",
       "3   Support us with ropes to tie our goats during ...   \n",
       "4   Support our group with a pop corn machine that...   \n",
       "5   Be receiving only cases that are referred to o...   \n",
       "6   Train saving groups on the importance of inves...   \n",
       "7   Build houses for total orphans for them to own...   \n",
       "8   Provide seeds early this time so that we can g...   \n",
       "9   Hire bigger land for the agricultural groups s...   \n",
       "10  Support us to start a brick laying project so ...   \n",
       "11  Reallocate ration cards from Kyaka to Nakivale...   \n",
       "12  Try to give us knickers next time to enable us...   \n",
       "13  Solve people's issues on houses mostly PSNs by...   \n",
       "14  Construct houses for people who missed this su...   \n",
       "15  Support us members of fish project with fridge...   \n",
       "16  Help us raise our children property by allowin...   \n",
       "17  Recruit casual workers who acquired building a...   \n",
       "18  Employ one more legal officer in order for peo...   \n",
       "19  Be visiting villages and we tell them our prob...   \n",
       "\n",
       "                                   sentence  \n",
       "0       We need buy vehicle traders palabek  \n",
       "1        We need support us transport means  \n",
       "2           We need bring box saving groups  \n",
       "3              We need support us ropes tie  \n",
       "4            We need support group pop corn  \n",
       "5       We need be receiving cases referred  \n",
       "6    We need train saving groups importance  \n",
       "7        We need build houses total orphans  \n",
       "8          We need provide seeds early time  \n",
       "9     We need hire bigger land agricultural  \n",
       "10           We need support us start brick  \n",
       "11    We need reallocate ration cards kyaka  \n",
       "12             We need try give us knickers  \n",
       "13       We need solve people issues houses  \n",
       "14   We need construct houses people missed  \n",
       "15          We need support us members fish  \n",
       "16           We need help us raise children  \n",
       "17  We need recruit casual workers acquired  \n",
       "18         We need employ one legal officer  \n",
       "19        We need be visiting villages tell  "
      ]
     },
     "execution_count": 13,
     "metadata": {},
     "output_type": "execute_result"
    }
   ],
   "source": [
    "# View resulting dataframe\n",
    "df.head(20)"
   ]
  },
  {
   "cell_type": "code",
   "execution_count": 15,
   "metadata": {},
   "outputs": [],
   "source": [
    "#df.to_csv('nlp_idea.csv',index=False)"
   ]
  },
  {
   "cell_type": "code",
   "execution_count": null,
   "metadata": {},
   "outputs": [],
   "source": []
  }
 ],
 "metadata": {
  "kernelspec": {
   "display_name": "Python 3",
   "language": "python",
   "name": "python3"
  },
  "language_info": {
   "codemirror_mode": {
    "name": "ipython",
    "version": 3
   },
   "file_extension": ".py",
   "mimetype": "text/x-python",
   "name": "python",
   "nbconvert_exporter": "python",
   "pygments_lexer": "ipython3",
   "version": "3.10.10"
  },
  "orig_nbformat": 4,
  "vscode": {
   "interpreter": {
    "hash": "a3c6aa2c1f5ade621a3ce5896e28a293a53d1c4364b3b89dfb2b4cbc0658e59e"
   }
  }
 },
 "nbformat": 4,
 "nbformat_minor": 2
}
